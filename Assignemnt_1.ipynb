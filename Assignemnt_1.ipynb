{
 "cells": [
  {
   "cell_type": "raw",
   "id": "f703835c-599a-4e25-9748-dc1f912f1b04",
   "metadata": {},
   "source": [
    "Q1.What is the purpose of Python's OOP?"
   ]
  },
  {
   "cell_type": "raw",
   "id": "acb0bfff-85e9-4333-91b7-27bad7dc1958",
   "metadata": {},
   "source": [
    "Answer:\n",
    "In Python, object-oriented Programming (OOPs) is a programming paradigm that uses objects and classes in programming. It aims to implement real-world entities like inheritance, polymorphisms, encapsulation, etc. in the programming. The main concept of OOPs is to bind the data and the functions that work on that together as a single unit so that no other part of the code can access this data."
   ]
  },
  {
   "cell_type": "raw",
   "id": "f53e1668-9755-4eca-8932-1c158eb59fd8",
   "metadata": {},
   "source": [
    "Q2. Where does an inheritance search look for an attribute?"
   ]
  },
  {
   "cell_type": "raw",
   "id": "232ea5ab-9ccd-48fd-832b-cc3cd50b178c",
   "metadata": {},
   "source": [
    "Answer:\n",
    "An inheritance search looks for an attribute first in the instance object, then in the class the instance was created from, then in all higher superclasses, progressing from left to right (by default). The search stops at the first place the attribute is found."
   ]
  },
  {
   "cell_type": "raw",
   "id": "bd1640a8-9eb3-4b2f-bda4-bff94a1ff7cd",
   "metadata": {},
   "source": [
    "Q3. How do you distinguish between a class object and an instance object?"
   ]
  },
  {
   "cell_type": "raw",
   "id": "692fd197-b0b2-4404-815d-9915f7533586",
   "metadata": {},
   "source": [
    "Answer:\n",
    "object: means when memory location is associated with the object (is a run-time entity of the class) by using the new operator. In simple words, Instance refers to the copy of the object at a particular time whereas object refers to the memory address of the class."
   ]
  },
  {
   "cell_type": "raw",
   "id": "48666ba8-df21-471e-9865-5e1e69058c05",
   "metadata": {},
   "source": [
    "Q4. What makes the first argument in a class’s method function special?"
   ]
  },
  {
   "cell_type": "raw",
   "id": "4e88ac52-c283-4679-b23e-52a41b3d77ab",
   "metadata": {},
   "source": [
    "Answer:\n",
    "meth(args) becomes Class.\n",
    "This is the reason the first parameter of a function in class must be the object itself."
   ]
  },
  {
   "cell_type": "raw",
   "id": "8aa669a4-b663-4b73-9f40-7edb28649db2",
   "metadata": {},
   "source": [
    "Q5. What is the purpose of the __init__ method?"
   ]
  },
  {
   "cell_type": "raw",
   "id": "f895bcbe-eb77-4cc2-b16e-fb3d454f855b",
   "metadata": {},
   "source": [
    "Answer:\n",
    "When you make a new class in Python the first method you'll likely make is the __init__ method. The __init__ method allows you to accept arguments to your class.\n",
    "\n",
    "More importantly, the __init__ method allows you to assign initial values to various attributes on your class instances.\n",
    " task of constructors is to initialize(assign values) to the data members of the class when an object of the class is created. Like methods, a constructor also contains a collection of statements(i.e. instructions) that are executed at the time of Object creation. It is run as soon as an object of a class is instantiated. The method is useful to do any initialization you want to do with your object."
   ]
  },
  {
   "cell_type": "raw",
   "id": "4c010f7e-9f05-41c2-9dd4-78d35d6b9c0b",
   "metadata": {},
   "source": [
    "Q6. What is the process for creating a class instance?"
   ]
  },
  {
   "cell_type": "raw",
   "id": "50487f77-f49e-490f-b6dd-cce3cfebd9b0",
   "metadata": {},
   "source": [
    "Answer:\n",
    "To create instances of a class, you call the class using class name and pass in whatever arguments its __init__ method accepts."
   ]
  },
  {
   "cell_type": "raw",
   "id": "1addb0bb-573c-4fb2-9056-724bc4f717aa",
   "metadata": {},
   "source": [
    "Q7. What is the process for creating a class?"
   ]
  },
  {
   "cell_type": "raw",
   "id": "8c97e50c-7cc7-4fdb-8fdc-26093d05d993",
   "metadata": {},
   "source": [
    "Answer:\n",
    "Create class.\n",
    "Enter the class name. (Optional) To enter a short description, grade level, or class time, tap Section and enter the details. (Optional) To enter the location for the class, tap Room and enter the details. (Optional) To add a subject, tap Subject and enter a name."
   ]
  },
  {
   "cell_type": "raw",
   "id": "ab94a075-216d-4f88-81f3-628a60a0ae65",
   "metadata": {},
   "source": [
    "Q8. How would you define the superclasses of a class?"
   ]
  },
  {
   "cell_type": "raw",
   "id": "d541cdf9-6039-4467-9b5b-f56877b4a1ec",
   "metadata": {},
   "source": [
    "Answer:\n",
    "A superclass is the class from which many subclasses can be created. The subclasses inherit the characteristics of a superclass. The superclass is also known as the parent class or base class. In the above example, Vehicle is the Superclass and its subclasses are Car, Truck and Motorcycle."
   ]
  }
 ],
 "metadata": {
  "kernelspec": {
   "display_name": "Python 3 (ipykernel)",
   "language": "python",
   "name": "python3"
  },
  "language_info": {
   "codemirror_mode": {
    "name": "ipython",
    "version": 3
   },
   "file_extension": ".py",
   "mimetype": "text/x-python",
   "name": "python",
   "nbconvert_exporter": "python",
   "pygments_lexer": "ipython3",
   "version": "3.10.6"
  }
 },
 "nbformat": 4,
 "nbformat_minor": 5
}
