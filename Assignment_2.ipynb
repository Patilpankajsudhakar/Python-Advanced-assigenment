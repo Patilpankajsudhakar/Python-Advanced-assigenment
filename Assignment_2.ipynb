{
 "cells": [
  {
   "cell_type": "raw",
   "id": "a6bb29cd-c0cd-4157-a054-3defe0a7ed93",
   "metadata": {},
   "source": [
    "Q1. What is the relationship between classes and modules?\n",
    "Ans:\n",
    "    Classes are blueprints that allow you to create instances with attributes and bound functionality. Classes support inheritance, metaclasses, and descriptors.\n",
    "\n",
    "    Modules can't do any of this, modules are essentially singleton instances of an internal module class, and all their globals are attributes on the module instance. You can manipulate those attributes as needed (add, remove and update), but take into account that these still form the global namespace for all code defined in that module."
   ]
  },
  {
   "cell_type": "raw",
   "id": "da77f4cf-6527-4f1c-bd99-e7908bc81ed6",
   "metadata": {},
   "source": [
    "Q2. How do you make instances and classes?\n",
    "Answer:\n",
    "    To create instances of a class, you call the class using class name and pass in whatever arguments its __init__ method accepts."
   ]
  },
  {
   "cell_type": "raw",
   "id": "28789513-9c51-42f3-a063-454079e01a47",
   "metadata": {},
   "source": [
    "Q3. Where and how should be class attributes created?\n",
    "Answer:\n",
    "    Class attributes belong to the class itself they will be shared by all the instances. Such attributes are defined in the class body parts usually at the top, for legibility.\n",
    "    Unlike class attributes, instance attributes are not shared by objects. Every object has its own copy of the instance attribute (In case of class attributes all object refer to single copy).\n",
    "\n",
    "To list the attributes of an instance/object, we have two functions:-\n",
    "1. vars()– This function displays the attribute of an instance in the form of an dictionary.\n",
    "2. dir()– This function displays more attributes than vars function,as it is not limited to instance. It displays the class attributes as well. It also displays the attributes of its ancestor classes."
   ]
  },
  {
   "cell_type": "raw",
   "id": "f5cf3ede-6887-4a11-8e84-d64d1fc1792a",
   "metadata": {},
   "source": [
    "Q4. Where and how are instance attributes created?\n",
    "Answer:\n",
    "    Instance attributes are defined in the constructor. Defined directly inside a class. Defined inside a constructor using the self parameter\n",
    "    Instance attributes are somewhat dynamic because they can have different values in each object. Instance attributes are defined in the __init__() function."
   ]
  },
  {
   "cell_type": "raw",
   "id": "9a57e176-da17-49fa-bcd2-b299d714ee2b",
   "metadata": {},
   "source": [
    "Q5. What does the term \"self\" in a Python class mean?\n",
    "Answer:\n",
    "    The word 'self' is used to represent the instance of a class. By using the \"self\" keyword we access the attributes and methods of the class in python"
   ]
  },
  {
   "cell_type": "raw",
   "id": "dc35e349-4eec-4326-afdf-2c3bae3d3913",
   "metadata": {},
   "source": [
    "Q6. How does a Python class handle operator overloading?\n",
    "Answer:\n",
    "    The operator overloading in Python means provide extended meaning beyond their predefined operational meaning. Such as, we use the \"+\" operator for adding two integers as well as joining two strings or merging two lists. We can achieve this as the \"+\" operator is overloaded by the \"int\" class and \"str\" class."
   ]
  },
  {
   "cell_type": "raw",
   "id": "55eb4c92-5b43-42b1-a869-58c5fd337fcb",
   "metadata": {},
   "source": [
    "Q7. When do you consider allowing operator overloading of your classes?\n",
    "Answer:\n",
    "    Overall, overloading boolean operators in a custom class can make your code more readable, consistent, concise, expressive, and functional.\n",
    "    When one or both operands are of a user-defined class or structure type, operator overloading makes it easier to specify user-defined implementation for such operations. This makes user-defined types more similar to the basic primitive data types in terms of behaviour."
   ]
  },
  {
   "cell_type": "raw",
   "id": "f73d4e19-c964-4894-ba19-50776a196b46",
   "metadata": {},
   "source": [
    "Q8. What is the most popular form of operator overloading?\n",
    "Answer:\n",
    "A very popular and convenient example is the Addition (+) operator. Just think how the '+' operator operates on two numbers and the same operator operates on two strings. It performs “Addition” on numbers whereas it performs “Concatenation” on strings"
   ]
  },
  {
   "cell_type": "raw",
   "id": "4e486e05-46a3-45f3-8d21-24c21cdb778c",
   "metadata": {},
   "source": [
    "Q9. What are the two most important concepts to grasp in order to comprehend Python OOP code?\n",
    "Answer:\n",
    "    Both inheritance and polymorphism are fundamental concepts of object oriented programming. These concepts help us to create code that can be extended and easily maintainable."
   ]
  }
 ],
 "metadata": {
  "kernelspec": {
   "display_name": "Python 3 (ipykernel)",
   "language": "python",
   "name": "python3"
  },
  "language_info": {
   "codemirror_mode": {
    "name": "ipython",
    "version": 3
   },
   "file_extension": ".py",
   "mimetype": "text/x-python",
   "name": "python",
   "nbconvert_exporter": "python",
   "pygments_lexer": "ipython3",
   "version": "3.10.6"
  }
 },
 "nbformat": 4,
 "nbformat_minor": 5
}
