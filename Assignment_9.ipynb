{
 "cells": [
  {
   "cell_type": "markdown",
   "id": "6261e548-703a-4e87-a252-de72838da1c4",
   "metadata": {},
   "source": [
    "Q1. In Python 3.X, what are the names and functions of string object types?"
   ]
  },
  {
   "cell_type": "markdown",
   "id": "39f9a233-905d-4d62-88f9-1cc7aeffcbd9",
   "metadata": {},
   "source": [
    "Answer: There are many string functions some of them are mentioned below isascii(), islower(), isdigit(), upper(), lower(), lstrip(). rstrip()\n",
    "\n",
    "basically after definign the string we can use (dot) and them tab in jupyter notebook or ctrl+space in colab to access these we don't need to remember them."
   ]
  },
  {
   "cell_type": "markdown",
   "id": "7beeef2e-0e65-43f2-9d91-402c7d3625e3",
   "metadata": {},
   "source": [
    "Q2. How do the string forms in Python 3.X vary in terms of operations?"
   ]
  },
  {
   "cell_type": "markdown",
   "id": "fdd51086-3dce-46b8-ad20-7a488c430016",
   "metadata": {},
   "source": [
    "Answer:\n",
    "\n",
    " The type can be used with format codes just add a % symbol before them :\n",
    "\n",
    "‘d’ for integers\n",
    "‘f’ for floating-point numbers\n",
    "‘b’ for binary numbers\n",
    "‘o’ for octal numbers\n",
    "‘x’ for octal hexadecimal numbers\n",
    "‘s’ for string\n",
    "‘e’ for floating-point in an exponent format"
   ]
  },
  {
   "cell_type": "markdown",
   "id": "ce54d407-5abd-4d08-8183-4cc355f66a95",
   "metadata": {},
   "source": [
    "Q3. In 3.X, how do you put non-ASCII Unicode characters in a string?"
   ]
  },
  {
   "cell_type": "markdown",
   "id": "ed3fac69-3942-4a51-9995-40f854408641",
   "metadata": {},
   "source": [
    "Answer:\n",
    "In order to use non-ASCII characters, Python requires explicit encoding and decoding of strings into Unicode. we can check using the ascii value using ord()"
   ]
  },
  {
   "cell_type": "code",
   "execution_count": 1,
   "id": "62163470-80ad-458f-b11a-89ad08d5cb1a",
   "metadata": {},
   "outputs": [
    {
     "data": {
      "text/plain": [
       "97"
      ]
     },
     "execution_count": 1,
     "metadata": {},
     "output_type": "execute_result"
    }
   ],
   "source": [
    "ord(\"a\")"
   ]
  },
  {
   "cell_type": "code",
   "execution_count": 3,
   "id": "085d9e13-d637-42a1-89bb-14c8c50c07a5",
   "metadata": {},
   "outputs": [
    {
     "data": {
      "text/plain": [
       "33"
      ]
     },
     "execution_count": 3,
     "metadata": {},
     "output_type": "execute_result"
    }
   ],
   "source": [
    "ord(\"!\")"
   ]
  },
  {
   "cell_type": "markdown",
   "id": "9b492228-d69b-46d5-8636-292e52af0e47",
   "metadata": {},
   "source": [
    "Q4. In Python 3.X, what are the key differences between text-mode and binary-mode files?"
   ]
  },
  {
   "cell_type": "markdown",
   "id": "9510e832-1c90-4269-a01e-0a0f7e5230c7",
   "metadata": {},
   "source": [
    "Answer: The major difference between these two is that a text file contains textual information in the form of alphabets, digits and special characters or symbols. On the other hand, a binary file contains bytes or a compiled version of a text file."
   ]
  },
  {
   "cell_type": "markdown",
   "id": "107e24fd-6b49-4b49-a2d6-3dfc98cc7f13",
   "metadata": {},
   "source": [
    "Q5. How can you interpret a Unicode text file containing text encoded in a different encoding than\n",
    "your platform&#39;s default?"
   ]
  },
  {
   "cell_type": "markdown",
   "id": "64d013c5-d521-45f8-b450-af1139605078",
   "metadata": {},
   "source": [
    "Answer: we can do it by hit and trieal trying different types of ending like utf-8, utf-16 etc."
   ]
  },
  {
   "cell_type": "markdown",
   "id": "a2098319-2f40-4fde-9ee1-8c4a415e1bec",
   "metadata": {},
   "source": [
    "Q6. What is the best way to make a Unicode text file in a particular encoding format?"
   ]
  },
  {
   "cell_type": "code",
   "execution_count": 4,
   "id": "ed9cb966-1348-42ef-92a8-ef7af741dd00",
   "metadata": {},
   "outputs": [
    {
     "name": "stdout",
     "output_type": "stream",
     "text": [
      "ʑʒʓʔʕʗʘʙʚʛʜʝʞ\n"
     ]
    }
   ],
   "source": [
    "unicode_text = u'ʑʒʓʔʕʗʘʙʚʛʜʝʞ'\n",
    "encoded_unicode = unicode_text.encode(\"utf8\")\n",
    "\n",
    "a_file = open(\"textfile.txt\", \"wb\")\n",
    "a_file.write(encoded_unicode)\n",
    "\n",
    "a_file = open(\"textfile.txt\", \"r\")#r reads contents of a file\n",
    "\n",
    "contents = a_file.read()\n",
    "\n",
    "print(contents)\n",
    "     "
   ]
  },
  {
   "cell_type": "markdown",
   "id": "834be3f3-5d5f-4de1-9edb-e8e9b456a9b2",
   "metadata": {},
   "source": [
    "Q7. What qualifies ASCII text as a form of Unicode text?"
   ]
  },
  {
   "cell_type": "markdown",
   "id": "0ecac7be-61de-4bb2-b433-103196c4563a",
   "metadata": {},
   "source": [
    "Answer: The first 128 Unicode code points represent the ASCII characters, which means that any ASCII text is also a UTF-8 text. As long as it contains no code points in the reserved range U+D800–U+DFFF, a UCS-2 text is valid UTF-16 text."
   ]
  },
  {
   "cell_type": "markdown",
   "id": "812e54d0-0e40-46a0-b5e3-bed9f04cd794",
   "metadata": {},
   "source": [
    "Encoding formats: UTF-8; UTF-16; GB18030;\n",
    "\n",
    "Standard: Unicode Standard\n",
    "\n",
    "Alias(es): Universal Coded Character Set (UCS)"
   ]
  },
  {
   "cell_type": "markdown",
   "id": "41df6387-ae03-439e-ab96-9db193b4a444",
   "metadata": {},
   "source": [
    "Q8. How much of an effect does the change in string types in Python 3.X have on your code?"
   ]
  },
  {
   "cell_type": "markdown",
   "id": "a3c4e68d-eed1-47ac-9ab3-b428d05fe5fd",
   "metadata": {},
   "source": [
    "To convert an integer to string in Python, use the str() function. This function takes any data type and converts it into a string, including integers. Use the syntax print(str(INT)) to return the int as a str , or string"
   ]
  }
 ],
 "metadata": {
  "kernelspec": {
   "display_name": "Python 3 (ipykernel)",
   "language": "python",
   "name": "python3"
  },
  "language_info": {
   "codemirror_mode": {
    "name": "ipython",
    "version": 3
   },
   "file_extension": ".py",
   "mimetype": "text/x-python",
   "name": "python",
   "nbconvert_exporter": "python",
   "pygments_lexer": "ipython3",
   "version": "3.10.6"
  }
 },
 "nbformat": 4,
 "nbformat_minor": 5
}
