{
 "cells": [
  {
   "cell_type": "markdown",
   "id": "78c19415-6ac7-4faa-ba96-904628624b8c",
   "metadata": {},
   "source": [
    "Q1. What is the difference between __getattr__ and __getattribute__?"
   ]
  },
  {
   "cell_type": "markdown",
   "id": "a67737bf-7378-4943-9569-65f2eee7d784",
   "metadata": {},
   "source": [
    "Answer:\n",
    "    getattribute: Is used to retrieve an attribute from an instance. \n",
    "    getattr: Is executed as the last resource when attribute is not found in an object."
   ]
  },
  {
   "cell_type": "markdown",
   "id": "9bf9fe9f-9a9d-4aa0-9ec3-294017fba575",
   "metadata": {},
   "source": [
    "Q2. What is the difference between properties and descriptors?"
   ]
  },
  {
   "cell_type": "markdown",
   "id": "f880ba4e-d4fd-460f-bab4-d0c36167f236",
   "metadata": {},
   "source": [
    "Answer:\n",
    "    Descriptors are a low-level mechanism that lets us hook into an object's attributes being accessed. Properties are a high-level application of this. that is, properties are implemented using descriptors."
   ]
  },
  {
   "cell_type": "markdown",
   "id": "e7c54670-574c-486a-8425-66bb4ecd927e",
   "metadata": {},
   "source": [
    "Q3. What are the key differences in functionality between __getattr__ and __getattribute__, as well as\n",
    "properties and descriptors?"
   ]
  },
  {
   "cell_type": "markdown",
   "id": "1af12fa0-02f3-4a48-9fee-e81a62e8765e",
   "metadata": {},
   "source": [
    "Answer:\n",
    "    A key difference between getattr and getattribute is that getattr is only invoked if the attribute wasn't found the usual ways. It's good for implementing a fallback for missing attributes and is probably the one of two you want."
   ]
  }
 ],
 "metadata": {
  "kernelspec": {
   "display_name": "Python 3 (ipykernel)",
   "language": "python",
   "name": "python3"
  },
  "language_info": {
   "codemirror_mode": {
    "name": "ipython",
    "version": 3
   },
   "file_extension": ".py",
   "mimetype": "text/x-python",
   "name": "python",
   "nbconvert_exporter": "python",
   "pygments_lexer": "ipython3",
   "version": "3.10.6"
  }
 },
 "nbformat": 4,
 "nbformat_minor": 5
}
