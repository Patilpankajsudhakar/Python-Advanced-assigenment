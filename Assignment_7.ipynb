{
 "cells": [
  {
   "cell_type": "markdown",
   "id": "602acdf0-73c3-49e7-b426-2c6312ab1589",
   "metadata": {},
   "source": [
    "Q1. What is the purpose of the try statement?"
   ]
  },
  {
   "cell_type": "markdown",
   "id": "dad16380-a6a9-4b80-974c-d280199bde19",
   "metadata": {},
   "source": [
    "Answer:\n",
    "     The try statement allows a programmer to define a block of code to be tested for errors while it is being executed. The catch statement allows you to define a block of code to be executed, if an error occurs in the try block."
   ]
  },
  {
   "cell_type": "markdown",
   "id": "b420d9c0-bcea-4fec-9af7-3c81a9ca87c3",
   "metadata": {},
   "source": [
    "Q2. What are the two most popular try statement variations?"
   ]
  },
  {
   "cell_type": "markdown",
   "id": "39adc0bd-7156-4cb0-994a-acf1f5b8f201",
   "metadata": {},
   "source": [
    "Answer:\n",
    "\n",
    "Variation 1:\n",
    "\n",
    "try: # Some Code except: # Executed if error in the # try block\n",
    "\n",
    "Variation 2:\n",
    "\n",
    "try: # Some Code except: # Executed if error in the # try block else: # execute if no exception\n",
    "\n",
    "Variation 3:\n",
    "\n",
    "try: # Some Code except: # Executed if error in the # try block else: # execute if no exception finally: # Some code .....(always executed)"
   ]
  },
  {
   "cell_type": "code",
   "execution_count": 2,
   "id": "53496a35-3b1e-437b-b52a-52d56a5dfdfc",
   "metadata": {},
   "outputs": [
    {
     "name": "stdout",
     "output_type": "stream",
     "text": [
      "Sorry ! You are dividing by zero \n"
     ]
    }
   ],
   "source": [
    "#Variation 1:\n",
    "\n",
    "#try: \n",
    "# Some Code except: \n",
    "# Executed if error in the \n",
    "# try block\n",
    "\n",
    "def divide(x, y):\n",
    "\ttry:\n",
    "\t\t# Floor Division : Gives only Fractional Part as Answer\n",
    "\t\tresult = x // y\n",
    "\t\tprint(\"Yeah ! Your answer is :\", result)\n",
    "\texcept ZeroDivisionError:\n",
    "\t\tprint(\"Sorry ! You are dividing by zero \")\n",
    "\n",
    "# Look at parameters and note the working of Program\n",
    "divide(3, 0)\n"
   ]
  },
  {
   "cell_type": "code",
   "execution_count": 3,
   "id": "20c593be-d5f4-4641-a9d9-b4df7c620030",
   "metadata": {},
   "outputs": [
    {
     "name": "stdout",
     "output_type": "stream",
     "text": [
      "-5.0\n",
      "a/b result in 0\n"
     ]
    }
   ],
   "source": [
    "#Variation 2:\n",
    "def AbyB(a , b):\n",
    "\ttry:\n",
    "\t\tc = ((a+b) // (a-b))\n",
    "\texcept ZeroDivisionError:\n",
    "\t\tprint (\"a/b result in 0\")\n",
    "\telse:\n",
    "\t\tprint (c)\n",
    "\n",
    "# Driver program to test above function\n",
    "AbyB(2.0, 3.0)\n",
    "AbyB(3.0, 3.0)\n"
   ]
  },
  {
   "cell_type": "code",
   "execution_count": 4,
   "id": "a09186c2-827a-4fd2-a182-f8c3be093df5",
   "metadata": {},
   "outputs": [
    {
     "name": "stdout",
     "output_type": "stream",
     "text": [
      "Can't divide by zero\n",
      "This is always executed\n"
     ]
    }
   ],
   "source": [
    "#variation 3\n",
    "try:\n",
    "\tk = 5//0 # raises divide by zero exception.\n",
    "\tprint(k)\n",
    "\t\n",
    "# handles zerodivision exception\t\n",
    "except ZeroDivisionError:\n",
    "\tprint(\"Can't divide by zero\")\n",
    "\t\t\n",
    "finally:\n",
    "\t# this block is always executed\n",
    "\t# regardless of exception generation.\n",
    "\tprint('This is always executed')\n"
   ]
  },
  {
   "cell_type": "markdown",
   "id": "932358e8-9a16-414e-a71d-3837d33754c2",
   "metadata": {},
   "source": [
    "Q3. What is the purpose of the raise statement?\n",
    "Answer:\n",
    "    The raise keyword is used to raise an exception. We can define what kind of error to raise, and the text to print to the user."
   ]
  },
  {
   "cell_type": "code",
   "execution_count": 16,
   "id": "71b43a53-46f2-495c-b659-93dd425b5e4d",
   "metadata": {},
   "outputs": [
    {
     "ename": "Exception",
     "evalue": "The number shouldn't be an odd integer",
     "output_type": "error",
     "traceback": [
      "\u001b[0;31m---------------------------------------------------------------------------\u001b[0m",
      "\u001b[0;31mException\u001b[0m                                 Traceback (most recent call last)",
      "Cell \u001b[0;32mIn [16], line 4\u001b[0m\n\u001b[1;32m      1\u001b[0m a \u001b[38;5;241m=\u001b[39m \u001b[38;5;241m5\u001b[39m\n\u001b[1;32m      3\u001b[0m \u001b[38;5;28;01mif\u001b[39;00m a \u001b[38;5;241m%\u001b[39m \u001b[38;5;241m2\u001b[39m \u001b[38;5;241m!=\u001b[39m \u001b[38;5;241m0\u001b[39m:\n\u001b[0;32m----> 4\u001b[0m \t\u001b[38;5;28;01mraise\u001b[39;00m \u001b[38;5;167;01mException\u001b[39;00m(\u001b[38;5;124m\"\u001b[39m\u001b[38;5;124mThe number shouldn\u001b[39m\u001b[38;5;124m'\u001b[39m\u001b[38;5;124mt be an odd integer\u001b[39m\u001b[38;5;124m\"\u001b[39m)\n",
      "\u001b[0;31mException\u001b[0m: The number shouldn't be an odd integer"
     ]
    }
   ],
   "source": [
    "a = 5\n",
    "\n",
    "if a % 2 != 0:\n",
    "\traise Exception(\"The number shouldn't be an odd integer\")\n"
   ]
  },
  {
   "cell_type": "markdown",
   "id": "a68c660c-8922-4a45-a569-e8fe58ddf186",
   "metadata": {},
   "source": [
    "Q4. What does the assert statement do, and what other statement is it like?"
   ]
  },
  {
   "cell_type": "markdown",
   "id": "50c96977-19b7-4097-aa33-211df12008bb",
   "metadata": {},
   "source": [
    "Answer: \n",
    "An assert statement checks whether a condition is true. If a condition evaluates to True, a program will keep running. If a condition is false, the program will return an AssertionError. At this point, the program will stop executing. Assertion is like raise statement."
   ]
  },
  {
   "cell_type": "markdown",
   "id": "b512da97-f385-4b7f-8654-a3d993fd102d",
   "metadata": {},
   "source": [
    "Q5. What is the purpose of the with/as argument, and what other statement is it like?"
   ]
  },
  {
   "cell_type": "markdown",
   "id": "da75a114-da23-4009-9422-ecbbacaef998",
   "metadata": {},
   "source": [
    "Answer:\n",
    "The with statement in Python is used for resource management and exception handling. We use it while working with file streams. For example, the statement ensures that the file stream process doesn't block other processes if an exception is raised, but terminates properly. We can use a try statement or block it is somewhat similar to with."
   ]
  }
 ],
 "metadata": {
  "kernelspec": {
   "display_name": "Python 3 (ipykernel)",
   "language": "python",
   "name": "python3"
  },
  "language_info": {
   "codemirror_mode": {
    "name": "ipython",
    "version": 3
   },
   "file_extension": ".py",
   "mimetype": "text/x-python",
   "name": "python",
   "nbconvert_exporter": "python",
   "pygments_lexer": "ipython3",
   "version": "3.10.6"
  }
 },
 "nbformat": 4,
 "nbformat_minor": 5
}
