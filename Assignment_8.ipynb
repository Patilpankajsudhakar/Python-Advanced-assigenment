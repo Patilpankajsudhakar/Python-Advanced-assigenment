{
 "cells": [
  {
   "cell_type": "markdown",
   "id": "f112a7e3-fa17-4a5d-8af3-19081650ff8d",
   "metadata": {},
   "source": [
    "Q1. What are the two latest user-defined exception constraints in Python 3.X?"
   ]
  },
  {
   "cell_type": "markdown",
   "id": "090e9be3-4bd6-498d-9fa4-f5ee83209371",
   "metadata": {},
   "source": [
    "Answer: Python also provides an exception handling method with the help of try-except. Some of the standard exceptions which are most frequent include IndexError, ImportError, IOError, ZeroDivisionError, TypeError, and FileNotFoundError."
   ]
  },
  {
   "cell_type": "markdown",
   "id": "697d2d82-2f8d-41ce-8ce9-65d6e83ec30c",
   "metadata": {},
   "source": [
    "Q2. How are class-based exceptions that have been raised matched to handlers?"
   ]
  },
  {
   "cell_type": "markdown",
   "id": "789e4b74-c853-4cae-95f3-28fa5e214cb3",
   "metadata": {},
   "source": [
    "Answer: A class-based exception can either cancel the current context or allow for a resume. Exceptions are raised using the statement RAISE EXCEPTION and handled using CATCH in a TRY control structure. Class-based exceptions can be raised in any procedures and can be further propagated by any procedures. A common class based and user defined exception in a single program as shown in preious assignments can be division by zero."
   ]
  },
  {
   "cell_type": "markdown",
   "id": "b425c762-6196-441d-8499-52e7c0c27793",
   "metadata": {},
   "source": [
    "Q3. Describe two methods for attaching context information to exception artefacts."
   ]
  },
  {
   "cell_type": "markdown",
   "id": "85868c39-519e-496e-9c13-afeade30b0ed",
   "metadata": {},
   "source": [
    "Answer: IMPLICIT EXCEPTION CHAINING AND EXPLICIT EXCEPTION CHAINING can be done for attaching context information to exception artefacts.\n",
    "\n",
    "PEP proposes three standard attributes on exception instances: the context attribute for implicitly chained exceptions, the cause attribute for explicitly chained exceptions, and the traceback attribute for the traceback. A new raise ... from statement sets the cause attribute. An example to illustrate the context attribute():"
   ]
  },
  {
   "cell_type": "code",
   "execution_count": 2,
   "id": "1d0a4eef-2041-472e-b79c-65628c06ec71",
   "metadata": {},
   "outputs": [],
   "source": [
    "#IMPLICIT EXCEPTION CHAINING\n",
    "def compute(a, b):\n",
    "    try:\n",
    "        a/b\n",
    "    except Exception as exc:\n",
    "        log(exc)\n",
    "\n",
    "def log(exc):\n",
    "    file = open('logfile.txt')  # oops, forgot the 'w'\n",
    "    print(file, exc)\n",
    "    file.close()"
   ]
  },
  {
   "cell_type": "code",
   "execution_count": 5,
   "id": "fd995c25-f447-4817-9f87-a55c5a1de41f",
   "metadata": {},
   "outputs": [],
   "source": [
    "#expicit exception chaining\n",
    "'''If the call to open() raises an exception, the problem will be reported as a DatabaseError, \n",
    "with a __cause__ attribute that reveals the IOError as the original cause.'''\n",
    "class DatabaseError(Exception):\n",
    "    pass\n",
    "\n",
    "class FileDatabase:\n",
    "    def __init__(self, filename):\n",
    "        try:\n",
    "            self.file = open(filename)\n",
    "        except IOError as exc:\n",
    "            raise DatabaseError('failed to open') from exc\n",
    "     "
   ]
  },
  {
   "cell_type": "markdown",
   "id": "35251a6f-92d1-4946-9ce6-a7694a6364f0",
   "metadata": {},
   "source": [
    "Q4. Describe two methods for specifying the text of an exception object's error message."
   ]
  },
  {
   "cell_type": "markdown",
   "id": "ad6eb367-f4d6-4eb2-ab24-b96cdc22e8af",
   "metadata": {},
   "source": [
    "Answer: try, except, else and finally in else and finally even in except we can add another try except blockto raise an exception that might still come. Basically, we can raise an excepion using the ecept block or using raise command"
   ]
  },
  {
   "cell_type": "markdown",
   "id": "f33af9be-77a8-4379-b3ef-83fabb58dee8",
   "metadata": {},
   "source": [
    "Q5. Why do you no longer use string-based exceptions?"
   ]
  },
  {
   "cell_type": "markdown",
   "id": "4c69f30a-8e79-433a-9ce1-7622bb02ef23",
   "metadata": {},
   "source": [
    "Answer: Accordig to recent updates the standard exceptions are Python classes, and a few new standard exceptions have been added. The obsolete AccessError exception has been deleted. Because it is possible (although unlikely) that this change broke existing code, the Python interpreter can be invoked the command line option -X to disable this feature, and use string exceptions like before. This option is a temporary measure - eventually the string-based standard exceptions will be removed from the language altogether. It hasn't been decided whether user-defined string exceptions will be allowed in Python 2.0."
   ]
  }
 ],
 "metadata": {
  "kernelspec": {
   "display_name": "Python 3 (ipykernel)",
   "language": "python",
   "name": "python3"
  },
  "language_info": {
   "codemirror_mode": {
    "name": "ipython",
    "version": 3
   },
   "file_extension": ".py",
   "mimetype": "text/x-python",
   "name": "python",
   "nbconvert_exporter": "python",
   "pygments_lexer": "ipython3",
   "version": "3.10.6"
  }
 },
 "nbformat": 4,
 "nbformat_minor": 5
}
