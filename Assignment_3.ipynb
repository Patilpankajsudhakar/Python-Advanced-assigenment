{
 "cells": [
  {
   "cell_type": "markdown",
   "id": "7a9e3a95-4b16-4f4e-aa2b-28a8a46dbdf8",
   "metadata": {},
   "source": [
    "1. What is the concept of an abstract superclass?"
   ]
  },
  {
   "cell_type": "markdown",
   "id": "8b2e8877-d38e-4fde-ba62-fabbd96e9538",
   "metadata": {},
   "source": [
    "Answer: \n",
    "An abstract superclass is one way to provide re-usable code.\n",
    "You can extend the abstract class and inherit the code. This is sometimes more convenient than using static methods or object composition to share code.\n",
    "The abstract class can \"fix\" parts of the code (by making it final). This is called the \"template method\" pattern (and this is not possible with an interface, which cannot provide final methods)."
   ]
  },
  {
   "cell_type": "markdown",
   "id": "a530d160-a36b-48eb-be35-0a7609272db6",
   "metadata": {},
   "source": [
    "2. What happens when a class statement's top level contains a basic assignment statement?"
   ]
  },
  {
   "cell_type": "markdown",
   "id": "1ed13432-511f-466a-ad3d-d093283dbf39",
   "metadata": {},
   "source": [
    "Answer:\n",
    "    In python, the statements which are not indented are called a top-level statement. Internally python gives a special name to top-level statement s as __main__\n",
    "    This makes it clear that what they really mean is \"things that are interpreted at import time\".\n",
    "While it's not terribly helpful directly, the Python documentation itself also uses the phrase \"top-level\" (components, which then means \"statements\" in this context).\n",
    "has two statements in it, the def and the class. These are both executed at import time. These definitions are compound statements (see def and class descriptions). If there are decorators attached to a top-level def, that adds even more top-level things to run. (See also user2357112's answer: running a class statement invokes more internal workings.)"
   ]
  },
  {
   "cell_type": "markdown",
   "id": "1b3c0856-5fc7-495b-83ab-564cbecf1d49",
   "metadata": {},
   "source": [
    "3. Why does a class need to manually call a superclass's __init__ method?"
   ]
  },
  {
   "cell_type": "markdown",
   "id": "3ed6f882-8784-450a-bcd3-6c976ba457aa",
   "metadata": {},
   "source": [
    "Answer:\n",
    "        The main reason for always calling base class _init__ is that base class may typically create member variable and initialize them to defaults. So if you don't call base class init, none of that code would be executed and you would end up with base class that has no member variablesm"
   ]
  },
  {
   "cell_type": "code",
   "execution_count": 1,
   "id": "9bec2216-8bc4-4880-9d79-9d79d9c969b4",
   "metadata": {},
   "outputs": [
    {
     "name": "stdout",
     "output_type": "stream",
     "text": [
      "[1, 2, 3, 4, 5]\n"
     ]
    }
   ],
   "source": [
    "class Class():\n",
    "    def __init__(self, x):\n",
    "        print(x)\n",
    "  \n",
    "# this is the subclass of class \"Class\"\n",
    "class SubClass(Class):\n",
    "    def __init__(self, x):\n",
    "  \n",
    "        # this is how we call super\n",
    "        # class's constructor\n",
    "        super().__init__(x)\n",
    "  \n",
    "# driver code\n",
    "x = [1, 2, 3, 4, 5]\n",
    "a = SubClass(x)"
   ]
  },
  {
   "cell_type": "markdown",
   "id": "0c41770a-57ff-4367-9cce-ddc29403eaae",
   "metadata": {},
   "source": [
    "4. How can you augment, instead of completely replacing, an inherited method?"
   ]
  },
  {
   "cell_type": "markdown",
   "id": "cc1c9a1c-4d9b-4ec3-8569-6c918af0533c",
   "metadata": {},
   "source": [
    "Answer:\n",
    "        A more sophisticated way to augment an inherited method involves forwarding. Message forwarding allows you to augment an inherited method in such a way that it can perform its inherited action and some new action."
   ]
  },
  {
   "cell_type": "markdown",
   "id": "bc4d288a-e33a-48c0-8997-106a6c8e8de8",
   "metadata": {},
   "source": [
    "5. How is the local scope of a class different from that of a function?"
   ]
  },
  {
   "cell_type": "markdown",
   "id": "1ece85de-6760-4edb-90cf-a9a1e459e53b",
   "metadata": {},
   "source": [
    "Answer:\n",
    "    A variable created inside a function belongs to the local scope of that function, and can only be used inside that function."
   ]
  },
  {
   "cell_type": "code",
   "execution_count": 5,
   "id": "c1e52a1b-ee54-4c74-a10d-ebd779591fa5",
   "metadata": {},
   "outputs": [
    {
     "name": "stdout",
     "output_type": "stream",
     "text": [
      "300\n"
     ]
    }
   ],
   "source": [
    "def myfunc():\n",
    "    x = 300\n",
    "    print(x)\n",
    "\n",
    "myfunc()"
   ]
  }
 ],
 "metadata": {
  "kernelspec": {
   "display_name": "Python 3 (ipykernel)",
   "language": "python",
   "name": "python3"
  },
  "language_info": {
   "codemirror_mode": {
    "name": "ipython",
    "version": 3
   },
   "file_extension": ".py",
   "mimetype": "text/x-python",
   "name": "python",
   "nbconvert_exporter": "python",
   "pygments_lexer": "ipython3",
   "version": "3.10.6"
  }
 },
 "nbformat": 4,
 "nbformat_minor": 5
}
