{
 "cells": [
  {
   "cell_type": "markdown",
   "id": "d4c67e35-ac7f-4108-a2e5-4646aabebea4",
   "metadata": {},
   "source": [
    "Q1. Describe three applications for exception processing."
   ]
  },
  {
   "cell_type": "markdown",
   "id": "7c5f4d85-48f0-448b-a9bc-e45f81b9c543",
   "metadata": {},
   "source": [
    "Answer:\n",
    "    Exception handling is the process of responding to unwanted or unexpected events when a computer program runs. Exception handling deals with these events to avoid the program or system crashing, and without this process, exceptions would disrupt the normal operation of a program.\n",
    "    \n",
    "Python provides the number of built-in exceptions, but here we are describing the common standard exceptions. A list of common exceptions that can be thrown from a standard Python program is given below.\n",
    "\n",
    "ZeroDivisionError: Occurs when a number is divided by zero.\n",
    "NameError: It occurs when a name is not found. It may be local or global.\n",
    "IndentationError: If incorrect indentation is given.\n",
    "IOError: It occurs when Input Output operation fails.\n",
    "EOFError: It occurs when the end of the file is reached, and yet operations are being performed."
   ]
  },
  {
   "cell_type": "markdown",
   "id": "bebda649-f282-4c61-b39c-8e96921230a4",
   "metadata": {},
   "source": [
    "Q2. What happens if you don't do something extra to treat an exception?"
   ]
  },
  {
   "cell_type": "markdown",
   "id": "6d79762f-25c1-4922-becd-1f683791fc1b",
   "metadata": {},
   "source": [
    "Answer:\n",
    "    When an exception occurred, if you don't handle it, the program terminates abruptly and the code past the line that caused the exception will not get executed. Because of not handling exceptions while deployment of end products users can face issues at their end while using the product."
   ]
  },
  {
   "cell_type": "markdown",
   "id": "48326e1c-9643-4580-b784-68e802ba4cb3",
   "metadata": {},
   "source": [
    "Q3. What are your options for recovering from an exception in your script?"
   ]
  },
  {
   "cell_type": "markdown",
   "id": "2e7e78a1-c7b5-4f18-a0ef-eaa291cd3bdb",
   "metadata": {},
   "source": [
    "Answer: Exception handling and logging the exceptions are basic ideas that a programmer should follow. Also writing the code in modular fashion helps in easily fidong the errors in end products and logging make it easier for deelopers to resolve the issue at their end"
   ]
  },
  {
   "cell_type": "markdown",
   "id": "4e53d55e-2ab2-4001-85d7-51f928579c17",
   "metadata": {},
   "source": [
    "Q4. Describe two methods for triggering exceptions in your script."
   ]
  },
  {
   "cell_type": "markdown",
   "id": "4be5ffc5-e639-4fd6-9bf9-461416a10260",
   "metadata": {},
   "source": [
    "Answer: \n",
    "    An unhandled exception displays an error message and the program suddenly crashes. To avoid such a scenario, there are two methods to handle Python exceptions:\n",
    "\n",
    "Try – This method catches the exceptions raised by the program\n",
    "\n",
    "Raise – Triggers an exception manually using custom exceptions"
   ]
  },
  {
   "cell_type": "markdown",
   "id": "ea539c5b-bf7f-42cf-a0c2-7131a16cdd95",
   "metadata": {},
   "source": [
    "Q5. Identify two methods for specifying actions to be executed at termination time, regardless of\n",
    "whether or not an exception exists."
   ]
  },
  {
   "cell_type": "markdown",
   "id": "2d4400d7-b011-44f2-8c4a-42e40c10baf6",
   "metadata": {},
   "source": [
    "Answe: These methods are finally and else a simple expmple using them is shown above."
   ]
  }
 ],
 "metadata": {
  "kernelspec": {
   "display_name": "Python 3 (ipykernel)",
   "language": "python",
   "name": "python3"
  },
  "language_info": {
   "codemirror_mode": {
    "name": "ipython",
    "version": 3
   },
   "file_extension": ".py",
   "mimetype": "text/x-python",
   "name": "python",
   "nbconvert_exporter": "python",
   "pygments_lexer": "ipython3",
   "version": "3.10.6"
  }
 },
 "nbformat": 4,
 "nbformat_minor": 5
}
