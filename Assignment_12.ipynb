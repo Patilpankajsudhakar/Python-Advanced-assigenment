{
 "cells": [
  {
   "cell_type": "markdown",
   "id": "1d027de5-5c37-4a78-9d74-43c682664c36",
   "metadata": {},
   "source": [
    "Q1. Does assigning a value to a string's indexed character violate Python&#39;s string immutability?"
   ]
  },
  {
   "cell_type": "markdown",
   "id": "b158b955-96b2-4db4-acf2-b9d5848c4c4d",
   "metadata": {},
   "source": [
    "Answer: In Python, strings are made immutable so that programmers cannot alter the contents of the object (even by mistake). This avoids unnecessary bugs. we can assign a value to a string's indexed character it doesn't violate Python's string immutability because for ding that we first have to split the string word into characters which leaves us with simple character string we can replace it easily with some other character but still it will be string even if the replaced value will be an interger or floting number or anything."
   ]
  },
  {
   "cell_type": "code",
   "execution_count": 2,
   "id": "413e0b63-c5ef-4dce-99e4-3db5ec734aa1",
   "metadata": {},
   "outputs": [
    {
     "name": "stdout",
     "output_type": "stream",
     "text": [
      "1s\n",
      "<class 'str'>\n"
     ]
    }
   ],
   "source": [
    "#Example:\n",
    "str = \"as\"\n",
    "print(str.replace(\"a\",\"1\"))\n",
    "print(type(str.replace(\"a\",\"1\")))"
   ]
  },
  {
   "cell_type": "markdown",
   "id": "c73b6001-c7e0-45ab-a176-2de6e56fd7e0",
   "metadata": {},
   "source": [
    "Q2. Does using the += operator to concatenate strings violate Python's string immutability? Why or\n",
    "why not?"
   ]
  },
  {
   "cell_type": "markdown",
   "id": "7f642e2d-7eab-4965-96d3-217e494cadb6",
   "metadata": {},
   "source": [
    "Answer:If you want to concatenate a number, such as an integer int or a floating point float , with a string, convert the number to a string with str() and then use the + operator or += operator. NO, same explanation as above bcause it will still be in string type."
   ]
  },
  {
   "cell_type": "markdown",
   "id": "91fe57ec-a5c2-4ff3-9e23-f8c41f43c3aa",
   "metadata": {},
   "source": [
    "Q3. In Python, how many different ways are there to index a character?"
   ]
  },
  {
   "cell_type": "markdown",
   "id": "27bc3fda-325a-40ea-bae2-d4809df82986",
   "metadata": {},
   "source": [
    "Answer: Each of a string's characters corresponds to an index number and each character can be accessed using their index number. We can access characters in a String in Two ways :\n",
    "\n",
    "1)Accessing Characters by Positive Index Number.\n",
    "2)Accessing Characters by Negative Index Number."
   ]
  },
  {
   "cell_type": "markdown",
   "id": "0f234097-997e-433a-a019-d667beda2ac1",
   "metadata": {},
   "source": [
    "Q4. What is the relationship between indexing and slicing?"
   ]
  },
  {
   "cell_type": "markdown",
   "id": "6bcecffc-662a-4b98-855c-4f13c6abd06b",
   "metadata": {},
   "source": [
    "Answer: “Indexing” means referring to an element of an iterable by its position within the iterable. “Slicing” means getting a subset of elements from an iterable based on their indices."
   ]
  },
  {
   "cell_type": "markdown",
   "id": "d09b71ee-a369-4404-93a3-fd2131f3455e",
   "metadata": {},
   "source": [
    "Q5. What is an indexed character's exact data type? What is the data form of a slicing-generated\n",
    "substring?"
   ]
  },
  {
   "cell_type": "markdown",
   "id": "d353d752-2803-4ab9-a4b8-0504fa0985f1",
   "metadata": {},
   "source": [
    "Answer: The type in slicing remains the same type in which it is entered. But in indexing the tye may differ. An examle is shown below to explain this."
   ]
  },
  {
   "cell_type": "code",
   "execution_count": 3,
   "id": "9855c659-9aa9-4b10-bd66-dfb05792d00f",
   "metadata": {},
   "outputs": [
    {
     "name": "stdout",
     "output_type": "stream",
     "text": [
      "<class 'int'>\n"
     ]
    }
   ],
   "source": [
    "l = [1,2,3,4,5]\n",
    "print(type(l[2]))"
   ]
  },
  {
   "cell_type": "code",
   "execution_count": 4,
   "id": "d84dccf7-7538-4737-bb00-e63ffe49b2ff",
   "metadata": {},
   "outputs": [
    {
     "name": "stdout",
     "output_type": "stream",
     "text": [
      "<class 'list'>\n",
      "[1]\n",
      "<class 'list'>\n"
     ]
    }
   ],
   "source": [
    "l = [1,2,3,4,5]\n",
    "print(type(l))\n",
    "print(l[:1])\n",
    "print(type(l[:1]))"
   ]
  },
  {
   "cell_type": "markdown",
   "id": "0f160b9b-8c1b-4b35-8f6a-c670a8e1a650",
   "metadata": {},
   "source": [
    "Q6. What is the relationship between string and character \"types\" in Python?"
   ]
  },
  {
   "cell_type": "markdown",
   "id": "6bbe781b-481e-41b1-ada1-7dec71bb250e",
   "metadata": {},
   "source": [
    "Answer: In Python, Strings are arrays of bytes representing Unicode characters. However, Python does not have a character data type, a single character is simply a string with a length of 1. Square brackets can be used to access elements of the string."
   ]
  },
  {
   "cell_type": "markdown",
   "id": "74d2dfa5-a5c7-424f-a09f-9526ac91bab5",
   "metadata": {},
   "source": [
    "Q7. Identify at least two operators and one method that allow you to combine one or more smaller\n",
    "strings to create a larger string."
   ]
  },
  {
   "cell_type": "markdown",
   "id": "dada83bb-4aa2-4c27-a2c4-7bef8d463f3c",
   "metadata": {},
   "source": [
    "Answer:\n",
    "operators are + and *\n",
    "method: format() or join()"
   ]
  },
  {
   "cell_type": "markdown",
   "id": "01651ed5-7669-4913-a1c2-6a0b396bd71d",
   "metadata": {},
   "source": [
    "Q8. What is the benefit of first checking the target string with in or not in before using the index\n",
    "method to find a substring?"
   ]
  },
  {
   "cell_type": "markdown",
   "id": "856afe11-d33c-44b1-9c22-9a9ef130ffae",
   "metadata": {},
   "source": [
    "Answer: set() helps us in knowing if there are't any repeatable words or items in the string and returns us a list sor set with only single entry of a particular item."
   ]
  },
  {
   "cell_type": "markdown",
   "id": "29dfa496-7735-4464-9491-44d7433dca0d",
   "metadata": {},
   "source": [
    "Q9. Which operators and built-in string methods produce simple Boolean (true/false) results?"
   ]
  },
  {
   "cell_type": "markdown",
   "id": "91664efe-a7b9-4414-97ae-64d9fd652fb9",
   "metadata": {},
   "source": [
    "Answer:\n",
    "operators : = , < , >\n",
    "methods: bool()"
   ]
  }
 ],
 "metadata": {
  "kernelspec": {
   "display_name": "Python 3 (ipykernel)",
   "language": "python",
   "name": "python3"
  },
  "language_info": {
   "codemirror_mode": {
    "name": "ipython",
    "version": 3
   },
   "file_extension": ".py",
   "mimetype": "text/x-python",
   "name": "python",
   "nbconvert_exporter": "python",
   "pygments_lexer": "ipython3",
   "version": "3.10.6"
  }
 },
 "nbformat": 4,
 "nbformat_minor": 5
}
